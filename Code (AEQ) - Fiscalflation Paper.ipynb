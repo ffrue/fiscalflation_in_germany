{
 "cells": [
  {
   "cell_type": "markdown",
   "id": "dbbad359",
   "metadata": {},
   "source": [
    "This Notebook contains the Python code written for the paper ''Fiscalflation: Fiscal implications for inflation in post-pandemic Germany'' by Florian Frühhaber. It also produces additional graphs used in the working paper version."
   ]
  },
  {
   "cell_type": "markdown",
   "id": "6d116d91",
   "metadata": {},
   "source": [
    "- [Figure 1](#fig1)\n",
    "- [Figure 2a](#fig2a)\n",
    "- [Figure 2b](#fig2b)\n",
    "- [Figure 3](#fig3)\n",
    "- [Figure 4](#fig4)\n",
    "- [Figure 5](#fig5)\n",
    "- [Figure 6a](#fig6a)\n",
    "- [Figure 6b](#fig6b)\n",
    "- [Figure 7](#fig7)"
   ]
  },
  {
   "cell_type": "code",
   "execution_count": 1,
   "id": "8a26f7fe",
   "metadata": {
    "ExecuteTime": {
     "end_time": "2024-09-28T11:39:23.381281Z",
     "start_time": "2024-09-28T11:39:20.833111Z"
    }
   },
   "outputs": [],
   "source": [
    "import requests\n",
    "import pandas as pd\n",
    "import plotly.express as px\n",
    "import plotly.graph_objects as go\n",
    "import warnings\n",
    "\n",
    "#warnings.filterwarnings('ignore', category=pd.errors.PerformanceWarning)\n",
    "#warnings.filterwarnings('ignore', category=pd.core.common.SettingWithCopyWarning)\n",
    "\n",
    "# from IPython.display import display, HTML\n",
    "# display(HTML(\"<style>.container { width:60% !important; }</style>\"))\n",
    "# HTML('''<script>\n",
    "# code_show=true; \n",
    "# function code_toggle() {\n",
    "#  if (code_show){\n",
    "#  $('div.input').hide();\n",
    "#  } else {\n",
    "#  $('div.input').show();\n",
    "#  }\n",
    "#  code_show = !code_show\n",
    "# } \n",
    "# $( document ).ready(code_toggle);\n",
    "# </script>\n",
    "# <form action=\"javascript:code_toggle()\"><input type=\"submit\" value=\"Click here to toggle on/off the raw code.\"></form>''')"
   ]
  },
  {
   "cell_type": "markdown",
   "id": "c404127f",
   "metadata": {},
   "source": [
    "## Data generation"
   ]
  },
  {
   "cell_type": "markdown",
   "id": "4b1ddae8",
   "metadata": {},
   "source": [
    "1. Get data about inflation expectations from ECB's SPF and combine it with own assumptions (Inflation expectations constant after 5 years, 2% after 15 year)"
   ]
  },
  {
   "cell_type": "code",
   "execution_count": 2,
   "id": "470fea75",
   "metadata": {
    "ExecuteTime": {
     "end_time": "2024-09-28T11:39:23.390192Z",
     "start_time": "2024-09-28T11:39:23.383808Z"
    }
   },
   "outputs": [],
   "source": [
    "# url = 'https://www.ecb.europa.eu/stats/ecb_surveys/survey_of_professional_forecasters/html/table_hist_hicp.en.html'\n",
    "# html = requests.get(url).content\n",
    "# df_list = pd.read_html(html)\n",
    "# df = df_list[-1]\n",
    "\n",
    "# data = df.rename(columns={'One year ahead':'pi1','Two years ahead':'pi2',df.columns[6]:'pi5'}).drop(columns=['Current calendar year','Next calendar year','Calendar yearafter next'])\n",
    "# data['pi3'] = round((data['pi5']-data['pi2'])/3 + data['pi2'],1)\n",
    "# data['pi4'] = round((data['pi5']-data['pi2'])*2/3 + data['pi2'],1)\n",
    "# for i in range(6,16):\n",
    "#     data['pi'+str(i)] = data['pi5']\n",
    "# for i in range(16,31):\n",
    "#     data['pi'+str(i)] = [2]*len(data['pi5'])\n",
    "# data\n",
    "\n",
    "# #\n",
    "\n",
    "# data2 = data.transpose()\n",
    "# data2.columns = data2.iloc[0]\n",
    "# data2 = data2.drop(index=\"Survey round\")\n",
    "# for y in range(1999,2024):\n",
    "#         for m in range(1,13):\n",
    "#             try:\n",
    "#                 if m in [1,2,3]:\n",
    "#                     data2[str(m)+\"-\"+str(y)] = data2[str(y)+\" Q1\"]  \n",
    "#                 elif m in [4,5,6]:\n",
    "#                     data2[str(m)+\"-\"+str(y)] = data2[str(y)+\" Q2\"]\n",
    "#                 elif m in [7,8,9]:\n",
    "#                     data2[str(m)+\"-\"+str(y)] = data2[str(y)+\" Q3\"]\n",
    "#                 else:\n",
    "#                     data2[str(m)+\"-\"+str(y)] = data2[str(y)+\" Q4\"]\n",
    "#             except:\n",
    "#                 break\n",
    "\n",
    "# data2.to_excel('spf_inflation_expectations.xlsx')\n",
    "# This output is in sheet 'SPF Inflation' in data.xlsx"
   ]
  },
  {
   "cell_type": "markdown",
   "id": "574fae59",
   "metadata": {},
   "source": [
    "2. [In Stata] Use ECB nominal Yield curve to calculate implied short-term interest rate expectations (see 'Yield Curve.do') --> output copied into 'data.xlsx/EA E(i) from YC'"
   ]
  },
  {
   "cell_type": "markdown",
   "id": "a7452957",
   "metadata": {},
   "source": [
    "3. [In Excel] Calculate expected short-term real interest rates by substracting inflation expectations from nominal interest rates (see sheet 'E(r) SPF + YC')"
   ]
  },
  {
   "cell_type": "markdown",
   "id": "d2399fdb",
   "metadata": {},
   "source": [
    "4. Manually collect German public data on debt from various sources (as linked)"
   ]
  },
  {
   "cell_type": "code",
   "execution_count": 3,
   "id": "780020d0",
   "metadata": {
    "ExecuteTime": {
     "end_time": "2024-09-28T11:39:23.425282Z",
     "start_time": "2024-09-28T11:39:23.393790Z"
    }
   },
   "outputs": [
    {
     "name": "stdout",
     "output_type": "stream",
     "text": [
      "Changes in 2020:\n",
      "        Net debt: 154.03999999999996\n",
      "        Gross debt: 271.1199999999999\n",
      "        Market Value of debt: 388.6100000000001\n",
      "        Valuation effect: 117.49000000000024\n",
      "\n",
      "Changes in 2021:\n",
      "        Net debt: 96.42000000000007\n",
      "        Gross debt: 154.6600000000003\n",
      "        Market Value of debt: 80.61000000000013\n",
      "        Valuation effect: -74.05000000000018\n",
      "\n",
      "Changes in 2022:\n",
      "        Net debt: 101.31999999999994\n",
      "        Gross debt: 68.48999999999978\n",
      "        Market Value of debt: -351.24000000000024\n",
      "        Valuation effect: -419.73\n",
      "\n",
      "Total Valuation Effect over 2020-2021: 43.440000000000055\n"
     ]
    }
   ],
   "source": [
    "years = [2019,2020,2021,2022]\n",
    "\n",
    "# Net debt as in WEO (Oct 21 - Apr 21 - Apr 23 - Apr 23)\n",
    "# https://www.imf.org/en/Publications/WEO/weo-database/2021/October\n",
    "net_debt_weo = [1418.23, 1558.63, 1641.67, 1742.99]\n",
    "net_debt_weo_rev = [1391.21, 1545.25, 1641.67, 1742.99] # all from Apr 23\n",
    "\n",
    "# Gross debt as in WEO (Oct 21 - Oct 21 - Apr 23 - Apr 23))\n",
    "# https://www.imf.org/en/Publications/WEO/weo-database/2021/October\n",
    "gross_debt_weo = [2057.63, 2314.09, 2471.63, 2572.95]\n",
    "\n",
    "# Gross debt (Eurostat)\n",
    "# https://ec.europa.eu/eurostat/databrowser/explore/all/economy?lang=en&subtheme=gov.gov_gfs10.gov_10dd.gov_10dd_sgd&display=list&sort=category\n",
    "gross_debt_eurostat = [2068.81, 2339.93, 2494.59, 2563.08]\n",
    "gross_debt_eurostat_bund = [1312.68, 1527.06, 1679.84, 1776.88] # central government\n",
    "gross_debt_eurostat_laender = [a-b for a,b in zip(gross_debt_eurostat,gross_debt_eurostat_bund)] # federal states\n",
    "\n",
    "# Markt value of debt (Eurostat)\n",
    "# https://ec.europa.eu/eurostat/databrowser/explore/all/economy?lang=en&subtheme=gov.gov_gfs10.gov_10dd.gov_10dd_sgd&display=list&sort=category\n",
    "mv_debt_eurostat = [2273.31, 2661.92, 2742.53, 2391.29]\n",
    "mv_debt_eurostat_bund = [1498.79, 1821.41, 1914.90, 1662.41]\n",
    "mv_debt_eurostat_laender = [a-b for a,b in zip(mv_debt_eurostat, mv_debt_eurostat_bund)]\n",
    "\n",
    "# Outstanding debt (Destatis)\n",
    "# https://www-genesis.destatis.de/genesis//online?operation=table&code=71321-0007&bypass=true&levelindex=1&levelid=1687375607611#abreadcrumb\n",
    "debt_destatis_bund = [1188.58, 1403.48, 1548.47, 1620.36]\n",
    "debt_destatis_laender = [579.01, 635.97, 638.55, 606.83]\n",
    "debt_destatis = [a+b for a,b in zip(debt_destatis_bund[:-1],debt_destatis_laender[:-1])] + [None]\n",
    "#  -> used for analysis:\n",
    "debt_bund_2019 = 1188.6\n",
    "debt_laender_2019 = 580\n",
    "\n",
    "\n",
    "\n",
    "net_debt_change = [None]\n",
    "gross_debt_change = [None]\n",
    "mv_debt_change = [None]\n",
    "revaluation = [None]\n",
    "for i in [1,2,3]:\n",
    "    net_debt_change.append(net_debt_weo_rev[i] - net_debt_weo_rev[i-1])\n",
    "    gross_debt_change.append(gross_debt_eurostat[i] - gross_debt_eurostat[i-1])\n",
    "    mv_debt_change.append(mv_debt_eurostat[i] - mv_debt_eurostat[i-1])\n",
    "    revaluation.append((mv_debt_eurostat[i] - mv_debt_eurostat[i-1])-(gross_debt_eurostat[i] - gross_debt_eurostat[i-1]))\n",
    "    print('Changes in '+str(years[i])+':')\n",
    "    print('        Net debt: '+str(net_debt_weo_rev[i] - net_debt_weo_rev[i-1]))\n",
    "    print('        Gross debt: '+str(gross_debt_eurostat[i] - gross_debt_eurostat[i-1]))\n",
    "    print('        Market Value of debt: '+str(mv_debt_eurostat[i] - mv_debt_eurostat[i-1]))\n",
    "    print('        Valuation effect: '+str((mv_debt_eurostat[i] - mv_debt_eurostat[i-1])-(gross_debt_eurostat[i] - gross_debt_eurostat[i-1])))\n",
    "    print('')\n",
    "print('Total Valuation Effect over 2020-2021: '+str((mv_debt_eurostat[2] - mv_debt_eurostat[0])-\n",
    "                                                        (gross_debt_eurostat[2] - gross_debt_eurostat[0])))\n",
    "                          \n",
    "df_debt = pd.DataFrame({'Year':years, 'Net debt':net_debt_weo_rev, 'Gross debt (WEO)':gross_debt_weo,\n",
    "                  'Gross debt':gross_debt_eurostat, 'Gross debt (Eurostat) - Federal':gross_debt_eurostat_bund,\n",
    "                  'Gross debt (Eurostat) - States':gross_debt_eurostat_laender,'Market value':mv_debt_eurostat,\n",
    "                  'Market value (Eurostat) - Federal':mv_debt_eurostat_bund,'Market value (Eurostat) - States':mv_debt_eurostat_laender,\n",
    "                  'Outstanding debt (Destatis)':debt_destatis,'Outstanding debt (Destatis) - Federal':debt_destatis_bund,\n",
    "                  'Outstanding debt (Destatis) - States':debt_destatis_laender,'\\u0394 net debt':net_debt_change,\n",
    "                  '\\u0394 gross debt':gross_debt_change,'\\u0394 market value':mv_debt_change,\n",
    "                  'Revaluation effect':revaluation})"
   ]
  },
  {
   "cell_type": "markdown",
   "id": "476e0024",
   "metadata": {},
   "source": [
    "## Calculations and Figures"
   ]
  },
  {
   "cell_type": "code",
   "execution_count": 8,
   "id": "77d5ab58",
   "metadata": {
    "ExecuteTime": {
     "start_time": "2024-09-28T11:39:23.428303Z"
    },
    "jupyter": {
     "is_executing": true
    }
   },
   "outputs": [
    {
     "ename": "ValueError",
     "evalue": "\nImage export using the \"kaleido\" engine requires the kaleido package,\nwhich can be installed using pip:\n    $ pip install -U kaleido\n",
     "output_type": "error",
     "traceback": [
      "\u001b[1;31m---------------------------------------------------------------------------\u001b[0m",
      "\u001b[1;31mValueError\u001b[0m                                Traceback (most recent call last)",
      "Cell \u001b[1;32mIn[8], line 36\u001b[0m\n\u001b[0;32m     10\u001b[0m fig\u001b[38;5;241m.\u001b[39madd_trace(go\u001b[38;5;241m.\u001b[39mScatter(\n\u001b[0;32m     11\u001b[0m             x\u001b[38;5;241m=\u001b[39mdf_debt[df_debt[\u001b[38;5;124m'\u001b[39m\u001b[38;5;124mYear\u001b[39m\u001b[38;5;124m'\u001b[39m]\u001b[38;5;241m>\u001b[39m\u001b[38;5;241m2019\u001b[39m][\u001b[38;5;124m'\u001b[39m\u001b[38;5;124mYear\u001b[39m\u001b[38;5;124m'\u001b[39m],\n\u001b[0;32m     12\u001b[0m             y\u001b[38;5;241m=\u001b[39mdf_debt[df_debt[\u001b[38;5;124m'\u001b[39m\u001b[38;5;124mYear\u001b[39m\u001b[38;5;124m'\u001b[39m]\u001b[38;5;241m>\u001b[39m\u001b[38;5;241m2019\u001b[39m][\u001b[38;5;124m'\u001b[39m\u001b[38;5;124mRevaluation effect\u001b[39m\u001b[38;5;124m'\u001b[39m],\n\u001b[1;32m   (...)\u001b[0m\n\u001b[0;32m     15\u001b[0m             marker\u001b[38;5;241m=\u001b[39m\u001b[38;5;28mdict\u001b[39m(symbol\u001b[38;5;241m=\u001b[39m\u001b[38;5;124m'\u001b[39m\u001b[38;5;124mcircle\u001b[39m\u001b[38;5;124m'\u001b[39m,size\u001b[38;5;241m=\u001b[39m\u001b[38;5;241m9.5\u001b[39m,color\u001b[38;5;241m=\u001b[39m\u001b[38;5;124m'\u001b[39m\u001b[38;5;124mblack\u001b[39m\u001b[38;5;124m'\u001b[39m)\n\u001b[0;32m     16\u001b[0m     ))\n\u001b[0;32m     18\u001b[0m fig\u001b[38;5;241m.\u001b[39mupdate_layout(\n\u001b[0;32m     19\u001b[0m     \u001b[38;5;66;03m#title=f\"<b>{title}</b>\",\u001b[39;00m\n\u001b[0;32m     20\u001b[0m     yaxis_title\u001b[38;5;241m=\u001b[39m\u001b[38;5;124m\"\u001b[39m\u001b[38;5;124mbillion EUR\u001b[39m\u001b[38;5;124m\"\u001b[39m,\n\u001b[1;32m   (...)\u001b[0m\n\u001b[0;32m     33\u001b[0m         font\u001b[38;5;241m=\u001b[39m\u001b[38;5;28mdict\u001b[39m(size\u001b[38;5;241m=\u001b[39m\u001b[38;5;241m16\u001b[39m,family\u001b[38;5;241m=\u001b[39m\u001b[38;5;124m\"\u001b[39m\u001b[38;5;124mserif\u001b[39m\u001b[38;5;124m\"\u001b[39m)\n\u001b[0;32m     34\u001b[0m     ))\n\u001b[1;32m---> 36\u001b[0m fig\u001b[38;5;241m.\u001b[39mwrite_image(\u001b[38;5;124m\"\u001b[39m\u001b[38;5;124mdebt measures change.pdf\u001b[39m\u001b[38;5;124m\"\u001b[39m,width\u001b[38;5;241m=\u001b[39m\u001b[38;5;241m800\u001b[39m)\n\u001b[0;32m     37\u001b[0m fig\u001b[38;5;241m.\u001b[39mshow()\n",
      "File \u001b[1;32m~\\miniconda3\\Lib\\site-packages\\plotly\\basedatatypes.py:3835\u001b[0m, in \u001b[0;36mBaseFigure.write_image\u001b[1;34m(self, *args, **kwargs)\u001b[0m\n\u001b[0;32m   3775\u001b[0m \u001b[38;5;250m\u001b[39m\u001b[38;5;124;03m\"\"\"\u001b[39;00m\n\u001b[0;32m   3776\u001b[0m \u001b[38;5;124;03mConvert a figure to a static image and write it to a file or writeable\u001b[39;00m\n\u001b[0;32m   3777\u001b[0m \u001b[38;5;124;03mobject\u001b[39;00m\n\u001b[1;32m   (...)\u001b[0m\n\u001b[0;32m   3831\u001b[0m \u001b[38;5;124;03mNone\u001b[39;00m\n\u001b[0;32m   3832\u001b[0m \u001b[38;5;124;03m\"\"\"\u001b[39;00m\n\u001b[0;32m   3833\u001b[0m \u001b[38;5;28;01mimport\u001b[39;00m \u001b[38;5;21;01mplotly\u001b[39;00m\u001b[38;5;21;01m.\u001b[39;00m\u001b[38;5;21;01mio\u001b[39;00m \u001b[38;5;28;01mas\u001b[39;00m \u001b[38;5;21;01mpio\u001b[39;00m\n\u001b[1;32m-> 3835\u001b[0m \u001b[38;5;28;01mreturn\u001b[39;00m pio\u001b[38;5;241m.\u001b[39mwrite_image(\u001b[38;5;28mself\u001b[39m, \u001b[38;5;241m*\u001b[39margs, \u001b[38;5;241m*\u001b[39m\u001b[38;5;241m*\u001b[39mkwargs)\n",
      "File \u001b[1;32m~\\miniconda3\\Lib\\site-packages\\plotly\\io\\_kaleido.py:266\u001b[0m, in \u001b[0;36mwrite_image\u001b[1;34m(fig, file, format, scale, width, height, validate, engine)\u001b[0m\n\u001b[0;32m    250\u001b[0m             \u001b[38;5;28;01mraise\u001b[39;00m \u001b[38;5;167;01mValueError\u001b[39;00m(\n\u001b[0;32m    251\u001b[0m \u001b[38;5;250m                \u001b[39m\u001b[38;5;124;03m\"\"\"\u001b[39;00m\n\u001b[0;32m    252\u001b[0m \u001b[38;5;124;03mCannot infer image type from output path '{file}'.\u001b[39;00m\n\u001b[1;32m   (...)\u001b[0m\n\u001b[0;32m    260\u001b[0m                 )\n\u001b[0;32m    261\u001b[0m             )\n\u001b[0;32m    263\u001b[0m     \u001b[38;5;66;03m# Request image\u001b[39;00m\n\u001b[0;32m    264\u001b[0m     \u001b[38;5;66;03m# -------------\u001b[39;00m\n\u001b[0;32m    265\u001b[0m     \u001b[38;5;66;03m# Do this first so we don't create a file if image conversion fails\u001b[39;00m\n\u001b[1;32m--> 266\u001b[0m     img_data \u001b[38;5;241m=\u001b[39m to_image(\n\u001b[0;32m    267\u001b[0m         fig,\n\u001b[0;32m    268\u001b[0m         \u001b[38;5;28mformat\u001b[39m\u001b[38;5;241m=\u001b[39m\u001b[38;5;28mformat\u001b[39m,\n\u001b[0;32m    269\u001b[0m         scale\u001b[38;5;241m=\u001b[39mscale,\n\u001b[0;32m    270\u001b[0m         width\u001b[38;5;241m=\u001b[39mwidth,\n\u001b[0;32m    271\u001b[0m         height\u001b[38;5;241m=\u001b[39mheight,\n\u001b[0;32m    272\u001b[0m         validate\u001b[38;5;241m=\u001b[39mvalidate,\n\u001b[0;32m    273\u001b[0m         engine\u001b[38;5;241m=\u001b[39mengine,\n\u001b[0;32m    274\u001b[0m     )\n\u001b[0;32m    276\u001b[0m     \u001b[38;5;66;03m# Open file\u001b[39;00m\n\u001b[0;32m    277\u001b[0m     \u001b[38;5;66;03m# ---------\u001b[39;00m\n\u001b[0;32m    278\u001b[0m     \u001b[38;5;28;01mif\u001b[39;00m path \u001b[38;5;129;01mis\u001b[39;00m \u001b[38;5;28;01mNone\u001b[39;00m:\n\u001b[0;32m    279\u001b[0m         \u001b[38;5;66;03m# We previously failed to make sense of `file` as a pathlib object.\u001b[39;00m\n\u001b[0;32m    280\u001b[0m         \u001b[38;5;66;03m# Attempt to write to `file` as an open file descriptor.\u001b[39;00m\n",
      "File \u001b[1;32m~\\miniconda3\\Lib\\site-packages\\plotly\\io\\_kaleido.py:132\u001b[0m, in \u001b[0;36mto_image\u001b[1;34m(fig, format, width, height, scale, validate, engine)\u001b[0m\n\u001b[0;32m    130\u001b[0m     \u001b[38;5;66;03m# Raise informative error message if Kaleido is not installed\u001b[39;00m\n\u001b[0;32m    131\u001b[0m     \u001b[38;5;28;01mif\u001b[39;00m scope \u001b[38;5;129;01mis\u001b[39;00m \u001b[38;5;28;01mNone\u001b[39;00m:\n\u001b[1;32m--> 132\u001b[0m         \u001b[38;5;28;01mraise\u001b[39;00m \u001b[38;5;167;01mValueError\u001b[39;00m(\n\u001b[0;32m    133\u001b[0m \u001b[38;5;250m            \u001b[39m\u001b[38;5;124;03m\"\"\"\u001b[39;00m\n\u001b[0;32m    134\u001b[0m \u001b[38;5;124;03mImage export using the \"kaleido\" engine requires the kaleido package,\u001b[39;00m\n\u001b[0;32m    135\u001b[0m \u001b[38;5;124;03mwhich can be installed using pip:\u001b[39;00m\n\u001b[0;32m    136\u001b[0m \u001b[38;5;124;03m    $ pip install -U kaleido\u001b[39;00m\n\u001b[0;32m    137\u001b[0m \u001b[38;5;124;03m\"\"\"\u001b[39;00m\n\u001b[0;32m    138\u001b[0m         )\n\u001b[0;32m    140\u001b[0m     \u001b[38;5;66;03m# Validate figure\u001b[39;00m\n\u001b[0;32m    141\u001b[0m     \u001b[38;5;66;03m# ---------------\u001b[39;00m\n\u001b[0;32m    142\u001b[0m     fig_dict \u001b[38;5;241m=\u001b[39m validate_coerce_fig_to_dict(fig, validate)\n",
      "\u001b[1;31mValueError\u001b[0m: \nImage export using the \"kaleido\" engine requires the kaleido package,\nwhich can be installed using pip:\n    $ pip install -U kaleido\n"
     ]
    }
   ],
   "source": [
    "fig = px.bar(df_debt[df_debt['Year']>2019], x='Year',y=['\\u0394 net debt','\\u0394 gross debt','\\u0394 market value'],\n",
    "              color_discrete_sequence=[\"#E3E6E8\",\"#CED4DA\",\"#ADB5BD\",\"#6C757D\",\"#343A40\",\"#131517\"],\n",
    "            barmode='group')\n",
    "\n",
    "fig.update_layout(template=\"simple_white\",\n",
    "                 xaxis=dict(showgrid=False,dtick=1, tickfont = dict(size=16,family=\"serif\")), \n",
    "                 yaxis=dict(showgrid=True,tickfont = dict(size=16,family=\"serif\")))\n",
    "#colors = [\"#E3E6E8\",\"#CED4DA\",\"#ADB5BD\",\"#6C757D\",\"#343A40\",\"#131517\"]  \n",
    "\n",
    "fig.add_trace(go.Scatter(\n",
    "            x=df_debt[df_debt['Year']>2019]['Year'],\n",
    "            y=df_debt[df_debt['Year']>2019]['Revaluation effect'],\n",
    "            mode='markers',\n",
    "            name='Revaluation effect',\n",
    "            marker=dict(symbol='circle',size=9.5,color='black')\n",
    "    ))\n",
    "\n",
    "fig.update_layout(\n",
    "    #title=f\"<b>{title}</b>\",\n",
    "    yaxis_title=\"billion EUR\",\n",
    "    font_family=\"serif\",\n",
    "    font_size=14,\n",
    "    xaxis_title=None,\n",
    "    legend=dict(\n",
    "        yanchor=\"bottom\",\n",
    "        y=-0.2,\n",
    "        xanchor=\"center\",\n",
    "        x=0.5,\n",
    "        orientation=\"h\",\n",
    "        #bordercolor=\"black\",\n",
    "        #borderwidth=1,\n",
    "        title=\"\",\n",
    "        font=dict(size=16,family=\"serif\")\n",
    "    ))\n",
    "\n",
    "fig.write_image(\"debt measures change.pdf\",width=800)\n",
    "fig.show()"
   ]
  },
  {
   "cell_type": "markdown",
   "id": "28e9e534",
   "metadata": {},
   "source": [
    "Calculation of numbers as described in section 3.2.5"
   ]
  },
  {
   "cell_type": "code",
   "execution_count": null,
   "id": "0fdf379d",
   "metadata": {
    "jupyter": {
     "is_executing": true
    }
   },
   "outputs": [],
   "source": [
    "def interest_series(start,end,time):\n",
    "    start=start\n",
    "    end=end\n",
    "    return [i/time*(end-start)+start for i in list(range(0,time))]+[end]*(32-time)"
   ]
  },
  {
   "cell_type": "code",
   "execution_count": null,
   "id": "958cc527",
   "metadata": {
    "jupyter": {
     "is_executing": true
    }
   },
   "outputs": [],
   "source": [
    "def nominal_fiscal_balances(output='bund',baseyear=2020,ex_post=0,date=\"1-2020\",\n",
    "                                # Baseyear 2020: What is the situation like on the 01.01.2020?\n",
    "                            growth_deviation=1, deviation_interest_rate=0, # for sensitivity checks\n",
    "                            emergency_credit_states=[0,0,0], emergency_credit_bund=[0,0,0], # for years 2020, 2021, 2022\n",
    "                            previous_debt_states=579.01, previous_debt_bund=1188.58, # initial values for 2020\n",
    "                            interest_rate=\"\", repayment_start=20, repayment_period=10,\n",
    "                            rule_bund=0.0035,rule_states=0):\n",
    "\n",
    "    if interest_rate == \"\":\n",
    "        i_expected = list(pd.read_excel(\"data.xlsx\", sheet_name='EA E(i) from YC')[date])\n",
    "        interest_rate_bund = interest_series(1,1+i_expected[16]+deviation_interest_rate,15)[:18]+[1+i+deviation_interest_rate for i in i_expected[16:]]\n",
    "        interest_rate_states = interest_series(1,1+i_expected[16]+deviation_interest_rate,15)[:18]+[1+i+deviation_interest_rate for i in i_expected[16:]]\n",
    "    else:\n",
    "        interest_rate_bund = interest_rate\n",
    "        interest_rate_states = interest_rate        \n",
    "    \n",
    "    gdp = list(pd.read_excel(\"data.xlsx\", sheet_name='gdp + output gap')[str(baseyear+ex_post)+' gdp'][:-2])\n",
    "    if growth_deviation != 1:\n",
    "        gdp = list(pd.read_excel(\"data.xlsx\", sheet_name='gdp + output gap')[str(baseyear+ex_post)+' gdp'][:-2])[0:5]\n",
    "        for i in range(1,28):\n",
    "            gdp.append(gdp[4]*((1.03+growth_deviation)**i))\n",
    "    \n",
    "    df = pd.DataFrame({'Year':list(range(2020,2052)),\n",
    "                 'GDP':gdp, \n",
    "                 'GDP gap':list(pd.read_excel(\"data.xlsx\", sheet_name='gdp + output gap')[str(baseyear+ex_post)+' output gap'][:-2]),\n",
    "                 'Debt Bund':[previous_debt_bund]+[None]*31,\n",
    "                 'Debt States':[previous_debt_states]+[None]*31,\n",
    "                 'Interest Rate Bund':[i for i in interest_rate_bund],\n",
    "                 'Interest Rate States':[i for i in interest_rate_states]})\n",
    "    \n",
    "    emergency_credit_bund_sum = sum(emergency_credit_bund)\n",
    "    emergency_credit_states_sum = sum(emergency_credit_states)\n",
    "        \n",
    "    df['NKA Bund'] = rule_bund*df['GDP'] - 0.203*df['GDP gap']\n",
    "    df['NKA States'] = - rule_states*df['GDP gap'] - 0.301*df['GDP gap']\n",
    "    \n",
    "    # add borrowing and repayment Länder (fixed) --> emergency borrowing from different years is repaid together\n",
    "    for i in range(0,3):\n",
    "        df['NKA States'].iloc[i] = df['NKA States'].iloc[i] + emergency_credit_states[i]\n",
    "    for i in range(0,10):\n",
    "        df['NKA States'].iloc[i+11] = df['NKA States'].iloc[i+11] - (emergency_credit_states_sum/10)\n",
    "    \n",
    "    # add borrowing and repayment Bund\n",
    "    for i in range(0,3):\n",
    "        df['NKA Bund'].iloc[i] = df['NKA Bund'].iloc[i] + emergency_credit_bund[i]\n",
    "    df['Tilgung Bund'] = [0]*repayment_start + [emergency_credit_bund_sum/repayment_period]*repayment_period + [0]*(32-repayment_period-repayment_start)\n",
    "    df['NKA Bund'] -= df['Tilgung Bund']\n",
    "    \n",
    "    for i in range(0,32):\n",
    "        df['Debt Bund'].loc[i+1] = df['Debt Bund'].loc[i] + df['NKA Bund'].loc[i]\n",
    "        df['Debt States'].loc[i+1] = df['Debt States'].loc[i] + df['NKA States'].loc[i]\n",
    "    df['Debt Total'] = df['Debt Bund'] + df['Debt States']\n",
    "\n",
    "    df['Interest Bund'] = df['Interest Rate Bund']/100 * df['Debt Bund']\n",
    "    df['Interest States'] = df['Interest Rate States']/100 * df['Debt States']\n",
    "\n",
    "    df['Primary Surplus Bund'] = - df['NKA Bund'] + df['Interest Bund']\n",
    "    df['Primary Surplus States'] = - df['NKA States'] + df['Interest States']\n",
    "    df['Primary Surplus Total'] = - df['NKA Bund'] - df['NKA States'] + df['Interest Bund'] + df['Interest States']\n",
    "    \n",
    "    df['Primary Surplus Total'].iloc[-1] += 1630 # Scale Price Level in 2021 to 1\n",
    "        # This step matters because when inflation expectations or discount rates change,\n",
    "        # it also alters the PV of surpluses after 2050\n",
    "    \n",
    "    df['Interest Payments Total'] = (df['Interest Bund'] + df['Interest States']) / df['GDP']\n",
    "    \n",
    "    if output=='bund':\n",
    "        return df['Primary Surplus Bund']\n",
    "    elif output=='states':\n",
    "        return df['Primary Surplus States']\n",
    "    elif output=='total':\n",
    "        return df['Primary Surplus Total']\n",
    "    elif output=='dataframe':\n",
    "        return df\n",
    "    elif output=='Interest':\n",
    "        return df['Interest Payments Total']\n",
    "    else:\n",
    "        print('Choose different output')"
   ]
  },
  {
   "cell_type": "code",
   "execution_count": null,
   "id": "39de2bb0",
   "metadata": {
    "jupyter": {
     "is_executing": true
    }
   },
   "outputs": [],
   "source": [
    "def partial_product(series, n):\n",
    "    product = 1\n",
    "    for index, value in enumerate(series):\n",
    "        if index < n:\n",
    "            product *= value\n",
    "    return product"
   ]
  },
  {
   "cell_type": "code",
   "execution_count": null,
   "id": "a431f9e5",
   "metadata": {
    "jupyter": {
     "is_executing": true
    }
   },
   "outputs": [],
   "source": [
    "def expected_price_levels(base,deviation=0):\n",
    "    expected_inflation = [i+deviation for i in list(pd.read_excel(\"data.xlsx\", sheet_name='SPF Inflation')[base])]\n",
    "    df = pd.DataFrame({'Expected Price Level': [1]*32})\n",
    "    for i in range(1,32):\n",
    "        df['Expected Price Level'].loc[i] = partial_product([j/100+1 for j in expected_inflation+[expected_inflation[-1]]*10],i)\n",
    "    if base[-4:] == '2020':\n",
    "        return list(df['Expected Price Level'])\n",
    "    if int(base[-4:]) > 2020:\n",
    "        liste = [1]*(int(base[-4:])-2020)+list(df['Expected Price Level'].iloc[:-(int(base[-4:])-2020)])\n",
    "        return liste"
   ]
  },
  {
   "cell_type": "code",
   "execution_count": null,
   "id": "b199e84a",
   "metadata": {
    "jupyter": {
     "is_executing": true
    }
   },
   "outputs": [],
   "source": [
    "def real_discount_factors(base, deviation=0):\n",
    "    discount = [i-deviation for i in list(pd.read_excel(\"data.xlsx\", sheet_name='E(r) SPF + YC')[base])]\n",
    "    df = pd.DataFrame({'Cumulated Discount Factor': [1]*32})\n",
    "    for i in range(1,32):\n",
    "        df['Cumulated Discount Factor'].loc[i] = 1/partial_product([j/100+1 for j in discount+[discount[-1]]*10],i)\n",
    "    if base[-4:] == '2020':\n",
    "        return list(df['Cumulated Discount Factor'])\n",
    "    if int(base[-4:]) > 2020:\n",
    "        liste = [1]*(int(base[-4:])-2020)+list(df['Cumulated Discount Factor'].iloc[:-(int(base[-4:])-2020)])\n",
    "        return liste"
   ]
  },
  {
   "cell_type": "code",
   "execution_count": null,
   "id": "ca6055f7",
   "metadata": {
    "jupyter": {
     "is_executing": true
    }
   },
   "outputs": [],
   "source": [
    "def discount_factors(base, deviation=0):\n",
    "    discount = [i-deviation for i in list(pd.read_excel(\"data.xlsx\", sheet_name='EA E(i) from YC')[base])]\n",
    "    df = pd.DataFrame({'Cumulated Discount Factor': [1]*32})\n",
    "    for i in range(1,32):\n",
    "        df['Cumulated Discount Factor'].loc[i] = 1/partial_product([j/100+1 for j in discount+[discount[-1]]*10],i)\n",
    "    if base[-4:] == '2020':\n",
    "        return list(df['Cumulated Discount Factor'])\n",
    "    if int(base[-4:]) > 2020:\n",
    "        liste = [1]*(int(base[-4:])-2020)+list(df['Cumulated Discount Factor'].iloc[:-(int(base[-4:])-2020)])\n",
    "        return liste"
   ]
  },
  {
   "cell_type": "markdown",
   "id": "54c7469c",
   "metadata": {},
   "source": [
    "If one wants to add market valuations to the price level estimation in 2022, it would be necessary to apply this both to outstanding debt in 2019 and the additional debt from 2020-2021. In a first approximation, I only apply it to outstanding debt in 2019. "
   ]
  },
  {
   "cell_type": "markdown",
   "id": "b494300a",
   "metadata": {},
   "source": [
    "| Year | Change market value | Change gross debt |\n",
    "| ---- | ------------------- | ----------------- |\n",
    "| 2020 | +17%                | +13%              |\n",
    "| 2021 | +3%                 | +7%               |\n",
    "| 2022 | \\-13%               | +3%               |"
   ]
  },
  {
   "cell_type": "code",
   "execution_count": null,
   "id": "4b9e2d56",
   "metadata": {
    "jupyter": {
     "is_executing": true
    }
   },
   "outputs": [],
   "source": [
    "def price_level_estimation(fiscal_balances, discount_factors, debt = 1889.06,\n",
    "                           year=0, output='price'):\n",
    "    \n",
    "    initial_debt=debt\n",
    "    if year == 2020: \n",
    "        initial_debt = 1889.06*1.04\n",
    "    elif year == 2021:\n",
    "        initital_debt = 1889.06*1.04*1.04\n",
    "    elif year == 2022:\n",
    "        initital_debt = 1889.06*1.04*1.04*0.9\n",
    "    \n",
    "    df = pd.DataFrame({'Nominal Surplus':list(fiscal_balances), #fiscal_balances[(baseyear-2020)\n",
    "                       'Discount Factor':discount_factors})\n",
    "    df['Real Present Value of Surplus'] = df['Nominal Surplus'] * df['Discount Factor']\n",
    "    total_present_value = sum(df['Real Present Value of Surplus'])\n",
    "    price_level = initial_debt / total_present_value\n",
    "    if output == 'price':\n",
    "        return price_level\n",
    "    elif output == 'dataframe':\n",
    "        return df\n",
    "    else:\n",
    "        print('Choose different output')"
   ]
  },
  {
   "cell_type": "markdown",
   "id": "6a80f36d",
   "metadata": {},
   "source": [
    "Ex-post balances: https://ec.europa.eu/eurostat/databrowser/view/GOV_10DD_EDPT1__custom_7059583/default/table?lang=en"
   ]
  },
  {
   "cell_type": "code",
   "execution_count": null,
   "id": "9785e24b",
   "metadata": {
    "jupyter": {
     "is_executing": true
    }
   },
   "outputs": [],
   "source": [
    "# Counterfactuals for different budget laws on the federal level\n",
    "\n",
    "# 2020\n",
    "\n",
    "p2020_0 = price_level_estimation(\n",
    "        fiscal_balances = nominal_fiscal_balances(output='dataframe', baseyear=2020, date=\"1-2020\")['Primary Surplus Total'],\n",
    "        discount_factors = discount_factors(\"1-2020\"))\n",
    "    # Initial budget\n",
    "\n",
    "df2020_1 = nominal_fiscal_balances(output='dataframe', baseyear=2021, date=\"4-2020\", # use 2021 bc GDP drop was already to be expected\n",
    "                                    emergency_credit_bund = [99.8,0,0],\n",
    "                                    emergency_credit_states = [30,0,0])\n",
    "p2020_1a = price_level_estimation(\n",
    "        fiscal_balances = df2020_1['Primary Surplus Total'],\n",
    "        discount_factors = discount_factors(\"4-2020\"))\n",
    "    # S I    \n",
    "p2020_1b = price_level_estimation(\n",
    "        fiscal_balances = df2020_1['Primary Surplus Total'],\n",
    "        discount_factors = discount_factors(\"1-2020\"))\n",
    "    # S I (constant discounting)\n",
    "p2020_1c = price_level_estimation(\n",
    "        fiscal_balances = nominal_fiscal_balances(output='dataframe', baseyear=2021, date=\"4-2020\",\n",
    "                                    emergency_credit_bund = [0,0,0],\n",
    "                                    emergency_credit_states = [0,0,0])['Primary Surplus Total'],\n",
    "        discount_factors = discount_factors(\"4-2020\"))\n",
    "    # S I (no borrowing)\n",
    "p2020_1d = price_level_estimation(year=2020,\n",
    "        fiscal_balances = df2020_1['Primary Surplus Total'],\n",
    "        discount_factors = discount_factors(\"4-2020\"))\n",
    "    # S I (with revaluation)   \n",
    "p2020_1e = price_level_estimation(\n",
    "        fiscal_balances = nominal_fiscal_balances(output='dataframe', baseyear=2021, date=\"1-2020\", # use 2021 bc GDP drop was already to be expected\n",
    "                                    emergency_credit_bund = [99.8,0,0],\n",
    "                                    emergency_credit_states = [30,0,0])['Primary Surplus Total'],\n",
    "        discount_factors = discount_factors(\"4-2020\"))\n",
    "    # S I (constant interest rates)       \n",
    "    \n",
    "df2020_2 = nominal_fiscal_balances(output='dataframe', baseyear=2021, date=\"8-2020\",\n",
    "                                    emergency_credit_bund = [118.7,0,0],\n",
    "                                    emergency_credit_states = [30,0,0])\n",
    "p2020_2a = price_level_estimation(\n",
    "        fiscal_balances = df2020_2['Primary Surplus Total'],\n",
    "        discount_factors = discount_factors(\"8-2020\"))\n",
    "    # S II\n",
    "p2020_2b = price_level_estimation(\n",
    "        fiscal_balances = df2020_2['Primary Surplus Total'],\n",
    "        discount_factors = discount_factors(\"1-2020\"))\n",
    "    # S II (constant discounting)\n",
    "p2020_2c = price_level_estimation(\n",
    "        fiscal_balances = nominal_fiscal_balances(output='dataframe', baseyear=2021, date=\"8-2020\",\n",
    "                                    emergency_credit_bund = [0,0,0],\n",
    "                                    emergency_credit_states = [0,0,0])['Primary Surplus Total'],\n",
    "        discount_factors = discount_factors(\"8-2020\"))\n",
    "    # S II (no borrowing)\n",
    "p2020_2d = price_level_estimation(year=2020,\n",
    "        fiscal_balances = df2020_2['Primary Surplus Total'],\n",
    "        discount_factors = discount_factors(\"8-2020\"))\n",
    "    # S II (with revaluation)\n",
    "p2020_2e = price_level_estimation(\n",
    "        fiscal_balances = nominal_fiscal_balances(output='dataframe', baseyear=2021, date=\"1-2020\",\n",
    "                                    emergency_credit_bund = [118.7,0,0],\n",
    "                                    emergency_credit_states = [30,0,0])['Primary Surplus Total'],\n",
    "        discount_factors = discount_factors(\"8-2020\"))\n",
    "    # S II (constant interest rates)"
   ]
  },
  {
   "cell_type": "code",
   "execution_count": null,
   "id": "f400fbf6",
   "metadata": {
    "jupyter": {
     "is_executing": true
    }
   },
   "outputs": [],
   "source": [
    "# 2021\n",
    "\n",
    "df2021_1 = nominal_fiscal_balances(output='dataframe', baseyear=2021, date=\"1-2021\",\n",
    "                                    emergency_credit_bund = [118.7,164.5,0],\n",
    "                                    emergency_credit_states = [30,0,0])\n",
    "p2021_1a = price_level_estimation(\n",
    "        fiscal_balances = df2021_1['Primary Surplus Total'], # Include all state aid\n",
    "        discount_factors = discount_factors(\"1-2021\"))\n",
    "    # Initial budget -> it was probably already clear that scope in 2020 would not be needed \n",
    "p2021_1b = price_level_estimation(\n",
    "        fiscal_balances = df2021_1['Primary Surplus Total'], # Include all state aid\n",
    "        discount_factors = discount_factors(\"1-2020\"))\n",
    "    # Initital budget (constant discounting)\n",
    "p2021_1c = price_level_estimation(\n",
    "        fiscal_balances = nominal_fiscal_balances(output='dataframe', baseyear=2021, date=\"1-2021\",\n",
    "                                    emergency_credit_bund = [0,0,0],\n",
    "                                    emergency_credit_states = [0,0,0])['Primary Surplus Total'],\n",
    "        discount_factors = discount_factors(\"1-2021\"))\n",
    "    # Initial budget (no borrowing)\n",
    "p2021_1d = price_level_estimation(year=2020,\n",
    "        fiscal_balances = df2021_1['Primary Surplus Total'], # Include all state aid\n",
    "        discount_factors = discount_factors(\"1-2021\"))\n",
    "    # Initial budget (with revaluation) \n",
    "p2021_1e = price_level_estimation(\n",
    "        fiscal_balances = nominal_fiscal_balances(output='dataframe', baseyear=2021, date=\"1-2020\",\n",
    "                                    emergency_credit_bund = [118.7,164.5,0],\n",
    "                                    emergency_credit_states = [30,0,0])['Primary Surplus Total'], # Include all state aid\n",
    "        discount_factors = discount_factors(\"1-2021\"))\n",
    "    # Initial budget (constant interest rates)\n",
    "\n",
    "df2021_2 = nominal_fiscal_balances(output='dataframe', baseyear=2021, date=\"1-2021\",\n",
    "                                    emergency_credit_bund = [(118.7+41.9)/2,213.3,0],\n",
    "                                    emergency_credit_states = [30,0,0])\n",
    "p2021_2a = price_level_estimation(\n",
    "        fiscal_balances = df2021_2['Primary Surplus Total'], \n",
    "        discount_factors = discount_factors(\"5-2021\"))\n",
    "    # S I\n",
    "p2021_2b = price_level_estimation(\n",
    "        fiscal_balances = df2021_2['Primary Surplus Total'],\n",
    "        discount_factors = discount_factors(\"1-2020\"))\n",
    "    # S I (constant discounting)\n",
    "p2021_2c = price_level_estimation(\n",
    "        fiscal_balances = nominal_fiscal_balances(output='dataframe', baseyear=2021, date=\"5-2021\",\n",
    "                                    emergency_credit_bund = [0,0,0],\n",
    "                                    emergency_credit_states = [0,0,0])['Primary Surplus Total'],\n",
    "        discount_factors = discount_factors(\"5-2021\"))\n",
    "    # S I (no borrowing)\n",
    "p2021_2d = price_level_estimation(year=2021,\n",
    "        fiscal_balances = df2021_2['Primary Surplus Total'], \n",
    "        discount_factors = discount_factors(\"5-2021\"))\n",
    "    # S I (with revaluation)\n",
    "p2021_2e = price_level_estimation(\n",
    "        fiscal_balances = nominal_fiscal_balances(output='dataframe', baseyear=2021, date=\"1-2020\",\n",
    "                                    emergency_credit_bund = [(118.7+41.9)/2,213.3,0],\n",
    "                                    emergency_credit_states = [30,0,0])['Primary Surplus Total'],\n",
    "        discount_factors = discount_factors(\"5-2021\"))\n",
    "    # S I (constant interest rates)\n",
    "\n",
    "\n",
    "df2022 = nominal_fiscal_balances(output='dataframe', baseyear=2021, date=\"10-2022\",\n",
    "                                    emergency_credit_bund = [41.9,192,0],\n",
    "                                    emergency_credit_states = [30,0,0])\n",
    "p2022a = price_level_estimation(\n",
    "        fiscal_balances = df2022['Primary Surplus Total'],\n",
    "        discount_factors = discount_factors(\"10-2022\"))\n",
    "    # ex post 2021\n",
    "p2022b = price_level_estimation(\n",
    "        fiscal_balances = df2022['Primary Surplus Total'],\n",
    "        discount_factors = discount_factors(\"1-2020\"))\n",
    "    # ex post 2021 (constant discounting)\n",
    "    \n",
    "p2022c = price_level_estimation(\n",
    "        fiscal_balances = nominal_fiscal_balances(output='dataframe', baseyear=2021, date=\"10-2022\",\n",
    "                                    emergency_credit_bund = [0,0,0],\n",
    "                                    emergency_credit_states = [0,0,0])['Primary Surplus Total'],\n",
    "        discount_factors = discount_factors(\"10-2022\"))\n",
    "    # ex post 2021 (no borrowing)\n",
    "p2022d = price_level_estimation(year=2022,\n",
    "        fiscal_balances = df2022['Primary Surplus Total'],\n",
    "        discount_factors = discount_factors(\"10-2022\"))\n",
    "    # ex post 2021 (with revaluation)\n",
    "p2022e = price_level_estimation(\n",
    "        fiscal_balances = nominal_fiscal_balances(output='dataframe', baseyear=2021, date=\"1-2020\",\n",
    "                                    emergency_credit_bund = [41.9,192,0],\n",
    "                                    emergency_credit_states = [30,0,0])['Primary Surplus Total'],\n",
    "        discount_factors = discount_factors(\"10-2022\"))\n",
    "    # ex post 2021 (constant interest rates)\n",
    "\n",
    "df2022_2 = nominal_fiscal_balances(output='dataframe', baseyear=2021, date=\"1-2022\",\n",
    "                                    emergency_credit_bund = [41.9,192,0],\n",
    "                                    emergency_credit_states = [30,0,0])\n",
    "p2022_2a = price_level_estimation(year=2021,\n",
    "        fiscal_balances = df2022_2['Primary Surplus Total'],\n",
    "        discount_factors = discount_factors(\"1-2022\"))\n",
    "    # ex post at 1-2021\n",
    "p2022_2b = price_level_estimation(\n",
    "        fiscal_balances = df2022_2['Primary Surplus Total'],\n",
    "        discount_factors = discount_factors(\"1-2020\"))\n",
    "    # ex post at 1-2021 (constant discounting)\n",
    "    \n",
    "p2022_2c = price_level_estimation(\n",
    "        fiscal_balances = nominal_fiscal_balances(output='dataframe', baseyear=2021, date=\"1-2022\",\n",
    "                                    emergency_credit_bund = [0,0,0],\n",
    "                                    emergency_credit_states = [0,0,0])['Primary Surplus Total'],\n",
    "        discount_factors = discount_factors(\"1-2022\"))\n",
    "    # ex post at 1-2021 (no borrowing)\n",
    "p2022_2d = price_level_estimation(year=2021,\n",
    "        fiscal_balances = df2022_2['Primary Surplus Total'],\n",
    "        discount_factors = discount_factors(\"1-2022\"))\n",
    "    # ex post at 1-2021 (with revaluation)\n",
    "p2022_2e = price_level_estimation(\n",
    "        fiscal_balances = nominal_fiscal_balances(output='dataframe', baseyear=2021, date=\"1-2020\",\n",
    "                                    emergency_credit_bund = [41.9,192,0],\n",
    "                                    emergency_credit_states = [30,0,0])['Primary Surplus Total'],\n",
    "        discount_factors = discount_factors(\"1-2022\"))\n",
    "    # ex post at 1-2021 (constant interest rates)"
   ]
  },
  {
   "cell_type": "markdown",
   "id": "47d93ccb",
   "metadata": {},
   "source": [
    "## Figure 2a\n",
    "<a id='fig2a'></a>\n",
    "\n",
    "with historic ex-post interest on total debt from Ameco"
   ]
  },
  {
   "cell_type": "code",
   "execution_count": null,
   "id": "09443bb7",
   "metadata": {
    "jupyter": {
     "is_executing": true
    }
   },
   "outputs": [],
   "source": [
    "implicit_interest = pd.read_excel(\"data.xlsx\", sheet_name='Implicit interest rate')\n",
    "implicit_interest = implicit_interest[implicit_interest['Year']<2021]\n",
    "implicit_interest = pd.merge(implicit_interest,nominal_fiscal_balances('dataframe',date=\"1-2020\")[['Year','Interest Rate Bund','Interest Rate States']],how='outer')\n",
    "\n",
    "fig = px.line(implicit_interest, x='Year', y='Interest % of debt', color_discrete_sequence=[None])\n",
    "\n",
    "fig.add_trace(go.Scatter(\n",
    "    x=implicit_interest['Year'],\n",
    "    y=implicit_interest['Interest % of debt'],\n",
    "    mode='lines',\n",
    "    name='Historic',\n",
    "    connectgaps=True,\n",
    "    line=dict(color='black')\n",
    "))\n",
    "\n",
    "fig.add_trace(go.Scatter(\n",
    "    x=implicit_interest['Year'],\n",
    "    y=implicit_interest['Interest Rate Bund']/100,\n",
    "    mode='lines',\n",
    "    name='1-2020',\n",
    "    connectgaps=True,\n",
    "    line=dict(color='#495057',dash=\"dashdot\")\n",
    "))\n",
    "\n",
    "fig.add_trace(go.Scatter(\n",
    "    x=df2021_1['Year'],\n",
    "    y=df2021_1['Interest Rate Bund']/100,\n",
    "    mode='lines',\n",
    "    name='1-2021',\n",
    "    marker=dict(symbol=\"square-open\"),\n",
    "    connectgaps=True,\n",
    "    line=dict(color='#ADB5BD',dash=\"dot\")\n",
    "))\n",
    "\n",
    "\n",
    "fig.add_trace(go.Scatter(\n",
    "    x=df2022_2['Year'],\n",
    "    y=df2022_2['Interest Rate Bund']/100,\n",
    "    mode='lines',\n",
    "    marker=dict(symbol=\"diamond-open\"),\n",
    "    name='1-2022',\n",
    "    connectgaps=True,\n",
    "    line=dict(color='#6C757D',dash=\"dash\")\n",
    "))\n",
    "\n",
    "fig.add_trace(go.Scatter(\n",
    "    x=df2022['Year'],\n",
    "    y=df2022['Interest Rate Bund']/100,\n",
    "    mode='lines',\n",
    "    name='10-2022',\n",
    "    marker=dict(symbol=\"diamond\"),\n",
    "    connectgaps=True,\n",
    "    line=dict(color='#343A40',dash=\"dash\")\n",
    "))\n",
    "    \n",
    "    \n",
    "\n",
    "fig.update_layout(template=\"simple_white\",\n",
    "                 xaxis=dict(showgrid=False,tickfont = dict(size=17,family=\"serif\"),title=\"\"), \n",
    "                 yaxis=dict(showgrid=True,tickfont = dict(size=17,family=\"serif\"),tickformat=\"%\",\n",
    "                            title=\"Interest expenditures in % of total debt\",titlefont = dict(size=18,family=\"serif\")))\n",
    "    \n",
    "fig.update_layout(\n",
    "    yaxis=dict(\n",
    "    tickformat='.1%'\n",
    "    ),\n",
    "    width=700,\n",
    "    legend=dict(\n",
    "        yanchor=\"bottom\",\n",
    "        title=\"\",\n",
    "        y=1,\n",
    "        xanchor=\"center\",\n",
    "        x=0.5,\n",
    "        orientation=\"h\",\n",
    "        font=dict(size=18,family=\"serif\")\n",
    "    ))\n",
    "\n",
    "fig.write_image('fig2a.pdf')\n",
    "fig.show()"
   ]
  },
  {
   "cell_type": "markdown",
   "id": "44d69abe",
   "metadata": {},
   "source": [
    "## Figure 4\n",
    "<a id='fig4'></a>"
   ]
  },
  {
   "cell_type": "code",
   "execution_count": null,
   "id": "67752d54",
   "metadata": {
    "jupyter": {
     "is_executing": true
    }
   },
   "outputs": [],
   "source": [
    "laws=['S I 2020 (3/2020)', 'S II 2020 (7/2020)', 'Initial 2021 (12/2020)', 'S I 2021 (4/2021)', 'Ex post (1-2022)', 'Ex post (9/2022)']\n",
    "results_a = [p2020_1a/p2020_0-1, p2020_2a/p2020_0-1, p2021_1a/p2020_0-1, p2021_2a/p2020_0-1, p2022_2a/p2020_0-1, p2022a/p2020_0-1]\n",
    "results_b = [p2020_1b/p2020_0-1, p2020_2b/p2020_0-1, p2021_1b/p2020_0-1, p2021_2b/p2020_0-1, p2022_2b/p2020_0-1, p2022b/p2020_0-1]\n",
    "results_c = [p2020_1c/p2020_0-1, p2020_2c/p2020_0-1, p2021_1c/p2020_0-1, p2021_2c/p2020_0-1, p2022_2c/p2020_0-1, p2022c/p2020_0-1]\n",
    "results_d = [p2020_1d/p2020_0-1, p2020_2d/p2020_0-1, p2021_1d/p2020_0-1, p2021_2d/p2020_0-1, p2022_2d/p2020_0-1, p2022d/p2020_0-1]\n",
    "results_e = [p2020_1e/p2020_0-1, p2020_2e/p2020_0-1, p2021_1e/p2020_0-1, p2021_2e/p2020_0-1, p2022_2e/p2020_0-1, p2022e/p2020_0-1]"
   ]
  },
  {
   "cell_type": "code",
   "execution_count": null,
   "id": "1aa7db91",
   "metadata": {
    "jupyter": {
     "is_executing": true
    }
   },
   "outputs": [],
   "source": [
    "fig = go.Figure()\n",
    "fig.update_layout(template=\"simple_white\",\n",
    "                 xaxis=dict(showgrid=False,tickfont = dict(size=16,family=\"serif\"),\n",
    "                            title=\"Federal Budget Laws (Date)\",titlefont = dict(size=18,family=\"serif\")), \n",
    "                 yaxis=dict(showgrid=True,tickfont = dict(size=16,family=\"serif\"),tickformat=\"0%\",\n",
    "                            title=\"PLE relative to 1-2020\",titlefont = dict(size=18,family=\"serif\")))\n",
    "msize=8\n",
    "fig.add_trace(go.Scatter(\n",
    "    x=laws,\n",
    "    y=results_a,\n",
    "    mode='markers+text',\n",
    "    name='Price Level Effect (PLE)',\n",
    "    marker={'size':msize+2,'symbol':'square'},\n",
    "    connectgaps=True,\n",
    "    text=[round(i*100,1) for i in results_a],\n",
    "    textposition=\"middle right\",  # Positioning text to the right of the marker\n",
    "    textfont=dict(color=\"#343A40\"),\n",
    "    line=dict(color='#343A40')\n",
    "))\n",
    "\n",
    "\n",
    "fig.add_trace(go.Scatter(\n",
    "    x=laws,\n",
    "    y=results_b,\n",
    "    mode='markers',\n",
    "    name='with constant discounting',\n",
    "    marker={'size':msize,'symbol':'diamond'},\n",
    "    connectgaps=True,\n",
    "    line=dict(color='#495057')\n",
    "))\n",
    "\n",
    "fig.add_trace(go.Scatter(\n",
    "    x=laws,\n",
    "    y=results_c,\n",
    "    mode='markers',\n",
    "    name='without borrowing',\n",
    "    marker={'size':msize},\n",
    "    connectgaps=True,\n",
    "    line=dict(color='#343A40')\n",
    "))\n",
    "\n",
    "fig.add_trace(go.Scatter(\n",
    "    x=laws,\n",
    "    y=results_e,\n",
    "    mode='markers',\n",
    "    name='with constant interest rates',\n",
    "    marker={'size':msize+2,'symbol':'triangle-up'},\n",
    "    connectgaps=True,\n",
    "    line=dict(color='#8D959D')\n",
    "))\n",
    "\n",
    "# fig.add_trace(go.Scatter(\n",
    "#     x=laws,\n",
    "#     y=results_d,\n",
    "#     mode='markers',\n",
    "#     name='with revaluation effect',\n",
    "#     marker={'size':msize+2,'symbol':'triangle-up'},\n",
    "#     connectgaps=True,\n",
    "#     line=dict(color='green')\n",
    "# ))\n",
    "\n",
    "fig.update_layout(\n",
    "    yaxis=dict(\n",
    "    tickformat='.1%'\n",
    "    ),\n",
    "    width=700,\n",
    "    legend=dict(\n",
    "        yanchor=\"bottom\",\n",
    "        title=\"\",\n",
    "        y=1,\n",
    "        xanchor=\"center\",\n",
    "        x=0.5,\n",
    "        orientation=\"h\",\n",
    "        font=dict(size=15,family=\"serif\")\n",
    "    ))\n",
    "\n",
    "fig.write_image('fig4.pdf')\n",
    "fig.show()"
   ]
  },
  {
   "cell_type": "markdown",
   "id": "5fba25e0",
   "metadata": {},
   "source": [
    "With 10-2022 expectations, real PVS are much lower than with 2020-expectations\n",
    "This is primarily driven by the discount factor, which is much lower in 2022\n",
    "because the nominal interest rate expectations are higher\n",
    "\n",
    "See comparison of 10-2022 vs 1-2020:"
   ]
  },
  {
   "cell_type": "code",
   "execution_count": null,
   "id": "c0c3ff75",
   "metadata": {
    "jupyter": {
     "is_executing": true
    }
   },
   "outputs": [],
   "source": [
    "comparison = price_level_estimation(output='dataframe',fiscal_balances = df2022['Primary Surplus Total'],\n",
    "        discount_factors = discount_factors(\"10-2022\")) / price_level_estimation(output='dataframe',fiscal_balances = df2022['Primary Surplus Total'], \n",
    "        discount_factors = discount_factors(\"1-2020\"))\n",
    "comparison.tail()"
   ]
  },
  {
   "cell_type": "markdown",
   "id": "691d4a5e",
   "metadata": {},
   "source": [
    "## Sensitvity Checks"
   ]
  },
  {
   "cell_type": "code",
   "execution_count": null,
   "id": "6476ef7b",
   "metadata": {
    "jupyter": {
     "is_executing": true
    }
   },
   "outputs": [],
   "source": [
    "standard_discount = discount_factors(\"10-2022\")\n",
    "df2022 = nominal_fiscal_balances(output='dataframe', baseyear=2021, date=\"10-2022\",\n",
    "                                    emergency_credit_bund = [41.9,192,0],\n",
    "                                    emergency_credit_states = [30,0,0])\n",
    "p2022_baseline = price_level_estimation(\n",
    "        fiscal_balances = df2022['Primary Surplus Total'],\n",
    "        discount_factors = standard_discount)\n",
    "\n",
    "# Interest rate changes (+/i 1 pp)\n",
    "\n",
    "df_interest_lower = nominal_fiscal_balances(output='dataframe', baseyear=2021, date=\"10-2022\",\n",
    "                                    emergency_credit_bund = [41.9,192,0],\n",
    "                                    emergency_credit_states = [30,0,0],\n",
    "                                    deviation_interest_rate=-1)\n",
    "p2022_interest_lower = price_level_estimation(\n",
    "        fiscal_balances = df_interest_lower['Primary Surplus Total'],\n",
    "        discount_factors = standard_discount)\n",
    "\n",
    "df_interest_upper = nominal_fiscal_balances(output='dataframe', baseyear=2021, date=\"10-2022\",\n",
    "                                    emergency_credit_bund = [41.9,192,0],\n",
    "                                    emergency_credit_states = [30,0,0],\n",
    "                                    deviation_interest_rate=+1)\n",
    "p2022_interest_upper  = price_level_estimation(\n",
    "        fiscal_balances = df_interest_upper['Primary Surplus Total'], \n",
    "        discount_factors = standard_discount)\n",
    "\n",
    "# GDP changes (+/- 1pp growth)\n",
    "\n",
    "df_gdp_lower = nominal_fiscal_balances(output='dataframe', baseyear=2021, date=\"10-2022\",\n",
    "                                    emergency_credit_bund = [41.9,192,0],\n",
    "                                    emergency_credit_states = [30,0,0],\n",
    "                                    growth_deviation=-0.01)\n",
    "p2022_gdp_lower = price_level_estimation(\n",
    "        fiscal_balances = df_gdp_lower['Primary Surplus Total'],\n",
    "        discount_factors = standard_discount)\n",
    "\n",
    "df_gdp_upper = nominal_fiscal_balances(output='dataframe', baseyear=2021, date=\"10-2022\",\n",
    "                                    emergency_credit_bund = [41.9,192,0],\n",
    "                                    emergency_credit_states = [30,0,0],\n",
    "                                    growth_deviation=0.01)\n",
    "p2022_gdp_upper = price_level_estimation(\n",
    "        fiscal_balances = df_gdp_upper['Primary Surplus Total'],\n",
    "        discount_factors = standard_discount)\n",
    "\n",
    "# Discount changes (+/- 1 pp)\n",
    "\n",
    "p2022_discount_lower= price_level_estimation(\n",
    "        fiscal_balances = df2022['Primary Surplus Total'],\n",
    "        discount_factors = discount_factors(\"10-2022\",deviation=1))\n",
    "\n",
    "p2022_discount_upper = price_level_estimation(\n",
    "        fiscal_balances = df2022['Primary Surplus Total'],\n",
    "        discount_factors = discount_factors(\"10-2022\",deviation=-1))"
   ]
  },
  {
   "cell_type": "code",
   "execution_count": null,
   "id": "1e30574a",
   "metadata": {
    "jupyter": {
     "is_executing": true
    }
   },
   "outputs": [],
   "source": [
    "scenario=['<i>GDP growth</i>', '<i>Discount rates</i>', '<i>Interest rates</i>']\n",
    "upper = [p2022_gdp_upper/p2020_0-1,\n",
    "          p2022_discount_upper/p2020_0-1,\n",
    "          p2022_interest_upper/p2020_0-1]\n",
    "lower = [p2022_gdp_lower/p2020_0-1,\n",
    "          p2022_discount_lower/p2020_0-1,\n",
    "          p2022_interest_lower/p2020_0-1]\n",
    "baseline = [p2022_baseline/p2020_0-1, p2022_baseline/p2020_0-1, p2022_baseline/p2020_0-1, p2022_baseline/p2020_0-1]"
   ]
  },
  {
   "cell_type": "markdown",
   "id": "f636c2cc",
   "metadata": {},
   "source": [
    "## Figure 5\n",
    "<a id='fig5'></a>"
   ]
  },
  {
   "cell_type": "code",
   "execution_count": null,
   "id": "51eeeca9",
   "metadata": {
    "jupyter": {
     "is_executing": true
    }
   },
   "outputs": [],
   "source": [
    "fig = go.Figure()\n",
    "fig.update_layout(template=\"simple_white\",\n",
    "                 xaxis=dict(showgrid=False,tickfont = dict(size=16,family=\"serif\"),\n",
    "                            title=\"Factor changed by +/- 1 percentage point\",titlefont = dict(size=19,family=\"serif\")), \n",
    "                 yaxis=dict(showgrid=True,tickfont = dict(size=16,family=\"serif\"),tickformat=\"0%\",\n",
    "                            title=\"PLE relative to 1-2020\",titlefont = dict(size=19,family=\"serif\")))\n",
    "msize=12\n",
    "\n",
    "fig.add_trace(go.Scatter(\n",
    "    x=scenario,\n",
    "    y=upper,\n",
    "    mode='markers',\n",
    "    name='Upper range',\n",
    "    marker={'size':msize,'color':'black','symbol':'triangle-up'},\n",
    "    connectgaps=True)\n",
    ")\n",
    "\n",
    "fig.add_trace(go.Scatter(\n",
    "    x=scenario,\n",
    "    y=lower,\n",
    "    mode='markers',\n",
    "    name='Lower range',\n",
    "    marker={'size':msize,'color':'black','symbol':'triangle-down'},\n",
    "    connectgaps=True)\n",
    ")\n",
    "\n",
    "fig.add_trace(go.Scatter(\n",
    "    x=scenario,\n",
    "    y=baseline,\n",
    "    mode='markers',\n",
    "    name='Baseline',\n",
    "    marker={'size':msize-3,'color':'black','symbol':'square'},\n",
    "    connectgaps=True)\n",
    ")\n",
    "\n",
    "fig.update_layout(\n",
    "    yaxis=dict(\n",
    "    tickformat='.1%'\n",
    "    ),\n",
    "    width=700,\n",
    "    legend=dict(\n",
    "        yanchor=\"bottom\",\n",
    "        title=\"\",\n",
    "        y=1,\n",
    "        xanchor=\"center\",\n",
    "        x=0.5,\n",
    "        orientation=\"h\",\n",
    "        font=dict(size=15,family=\"serif\")\n",
    "    ))\n",
    "\n",
    "fig.write_image('fig5.pdf')\n",
    "fig.show()"
   ]
  },
  {
   "cell_type": "markdown",
   "id": "b4159fa8",
   "metadata": {},
   "source": [
    "### Schuldenbremse Reform\n",
    "\n",
    "Idea: Allow 1% of GDP borrowing for total government (0.7% for federal and 0.3% for states)\n",
    "\n",
    "Results: Does not matter much"
   ]
  },
  {
   "cell_type": "code",
   "execution_count": null,
   "id": "754f6cf1",
   "metadata": {
    "jupyter": {
     "is_executing": true
    }
   },
   "outputs": [],
   "source": [
    "df2022 = nominal_fiscal_balances(output='dataframe', baseyear=2021, date=\"10-2022\",\n",
    "                                    rule_states=0.003,rule_bund=0.007,\n",
    "                                    emergency_credit_bund = [41.9,192,0],\n",
    "                                    emergency_credit_states = [30,0,0])\n",
    "p2022a_r = price_level_estimation(\n",
    "        fiscal_balances = df2022['Primary Surplus Total'],\n",
    "        discount_factors = discount_factors(\"10-2022\"))\n",
    "    # ex post 2021\n",
    "p2022c_r = price_level_estimation(\n",
    "        fiscal_balances = nominal_fiscal_balances(output='dataframe', baseyear=2021, date=\"10-2022\",\n",
    "                                    rule_states=0.003,rule_bund=0.007,\n",
    "                                    emergency_credit_bund = [0,0,0],\n",
    "                                    emergency_credit_states = [0,0,0])['Primary Surplus Total'], \n",
    "        discount_factors = discount_factors(\"10-2022\"))\n",
    "    # ex post 2021 (no borrowing)\n",
    "p2022e_r = price_level_estimation(\n",
    "        fiscal_balances = nominal_fiscal_balances(output='dataframe', baseyear=2021, date=\"1-2020\",\n",
    "                                    rule_states=0.003,rule_bund=0.007,\n",
    "                                    emergency_credit_bund = [41.9,192,0],\n",
    "                                    emergency_credit_states = [30,0,0])['Primary Surplus Total'], \n",
    "        discount_factors = discount_factors(\"10-2022\"))\n",
    "    # ex post 2021 (constant interest rates)\n",
    "\n",
    "df2022_2 = nominal_fiscal_balances(output='dataframe', baseyear=2021, date=\"1-2022\",\n",
    "                                    rule_states=0.003,rule_bund=0.007,\n",
    "                                    emergency_credit_bund = [41.9,192,0],\n",
    "                                    emergency_credit_states = [30,0,0])\n",
    "p2022_2a_r = price_level_estimation(\n",
    "        fiscal_balances = df2022_2['Primary Surplus Total'], \n",
    "        discount_factors = discount_factors(\"1-2022\"))\n",
    "    # ex post at 1-2021\n",
    "p2022_2c_r = price_level_estimation(\n",
    "        fiscal_balances = nominal_fiscal_balances(output='dataframe', baseyear=2021, date=\"1-2022\",\n",
    "                                    rule_states=0.003,rule_bund=0.007,\n",
    "                                    emergency_credit_bund = [41.9,192,0],\n",
    "                                    emergency_credit_states = [30,0,0])['Primary Surplus Total'],\n",
    "        discount_factors = discount_factors(\"1-2022\"))\n",
    "    # ex post at 1-2021 (constant interest rates)\n",
    "p2022_2e_r = price_level_estimation(\n",
    "        fiscal_balances = nominal_fiscal_balances(output='dataframe', baseyear=2021, date=\"1-2020\",\n",
    "                                    rule_states=0.003,rule_bund=0.007,\n",
    "                                    emergency_credit_bund = [0,0,0],\n",
    "                                    emergency_credit_states = [0,0,0])['Primary Surplus Total'],\n",
    "        discount_factors = discount_factors(\"1-2022\"))\n",
    "    # ex post at 1-2021 (no borrowing)"
   ]
  },
  {
   "cell_type": "markdown",
   "id": "6a0d347f",
   "metadata": {},
   "source": [
    "## Figure 6a\n",
    "<a id='fig6a'></a>"
   ]
  },
  {
   "cell_type": "code",
   "execution_count": null,
   "id": "b700f666",
   "metadata": {
    "jupyter": {
     "is_executing": true
    }
   },
   "outputs": [],
   "source": [
    "laws=['Ex post (1-2022)', '<i>Reform (1-2022)</i>', 'Ex post (10-2022)', '<i>Reform (10-2022)</i>']\n",
    "results_a_r = [p2022_2a/p2020_0-1, p2022_2a_r/p2020_0-1, p2022a/p2020_0-1, p2022a_r/p2020_0-1]\n",
    "results_c_r = [p2022_2c/p2020_0-1, p2022_2c_r/p2020_0-1, p2022c/p2020_0-1, p2022c_r/p2020_0-1]\n",
    "results_e_r = [p2022_2e/p2020_0-1, p2022_2e_r/p2020_0-1, p2022e/p2020_0-1, p2022e_r/p2020_0-1]"
   ]
  },
  {
   "cell_type": "code",
   "execution_count": null,
   "id": "e6ad286a",
   "metadata": {
    "jupyter": {
     "is_executing": true
    }
   },
   "outputs": [],
   "source": [
    "fig = go.Figure()\n",
    "fig.update_layout(template=\"simple_white\",\n",
    "                 xaxis=dict(showgrid=False,tickfont = dict(size=17,family=\"serif\"),\n",
    "                            title=\"Federal Budget Laws (Date)\",titlefont = dict(size=19,family=\"serif\")), \n",
    "                 yaxis=dict(showgrid=True,tickfont = dict(size=17,family=\"serif\"),tickformat=\"0%\",\n",
    "                            title=\"PLE relative to 1-2020\",titlefont = dict(size=19,family=\"serif\")))\n",
    "msize=8\n",
    "fig.add_trace(go.Scatter(\n",
    "    x=laws,\n",
    "    y=results_a_r,\n",
    "    mode='markers',\n",
    "    name='Price Level Effect (PLE)',\n",
    "    marker={'size':msize},\n",
    "    connectgaps=True,\n",
    "    line=dict(color='#343A40')\n",
    "))\n",
    "\n",
    "fig.add_trace(go.Scatter(\n",
    "    x=laws,\n",
    "    y=results_c_r,\n",
    "    mode='markers',\n",
    "    name='without borrowing',\n",
    "    marker={'size':msize},\n",
    "    connectgaps=True,\n",
    "    line=dict(color='#CED4DA')\n",
    "))\n",
    "\n",
    "\n",
    "fig.add_trace(go.Scatter(\n",
    "    x=laws,\n",
    "    y=results_e_r,\n",
    "    mode='markers',\n",
    "    name='with constant interest rates',\n",
    "    marker={'size':msize},\n",
    "    connectgaps=True,\n",
    "    line=dict(color='#8D959D')\n",
    "))\n",
    "\n",
    "fig.update_layout(\n",
    "    yaxis=dict(\n",
    "    tickformat='.1%'\n",
    "    ),\n",
    "    width=700,\n",
    "    legend=dict(\n",
    "        yanchor=\"bottom\",\n",
    "        title=\"\",\n",
    "        y=1,\n",
    "        xanchor=\"center\",\n",
    "        x=0.5,\n",
    "        orientation=\"h\",\n",
    "        font=dict(size=15,family=\"serif\")\n",
    "    ))\n",
    "\n",
    "fig.update_layout(\n",
    "    margin=dict(l=0,r=0,b=0,t=100)\n",
    "    )\n",
    "\n",
    "fig.write_image('fig6a.pdf')\n",
    "fig.show()"
   ]
  },
  {
   "cell_type": "markdown",
   "id": "8b0bf597",
   "metadata": {},
   "source": [
    "## Figure 7\n",
    "<a id='fig7'></a>"
   ]
  },
  {
   "cell_type": "markdown",
   "id": "a9f033ff",
   "metadata": {},
   "source": [
    "Historical values from Ameco"
   ]
  },
  {
   "cell_type": "code",
   "execution_count": null,
   "id": "eb8a9969",
   "metadata": {
    "jupyter": {
     "is_executing": true
    }
   },
   "outputs": [],
   "source": [
    "# For years 2015-2019(2024): \n",
    "gdp = [3026,3132,3267,3365,3474,3405,3602]#,3867,4112,4268]\n",
    "interest = [42.2,37.3,33.8,31.2,27.4,21.5,20.8]#,26.1,33.3,38.4]\n",
    "relative_interest = []\n",
    "for i in range(0,6):\n",
    "    relative_interest.append(interest[i]/gdp[i])"
   ]
  },
  {
   "cell_type": "code",
   "execution_count": null,
   "id": "f34df404",
   "metadata": {
    "jupyter": {
     "is_executing": true
    }
   },
   "outputs": [],
   "source": [
    "interest_grimm = pd.read_excel(\"data.xlsx\", sheet_name='Grimm2022')\n",
    "interest_grimm = interest_grimm.iloc[10:]"
   ]
  },
  {
   "cell_type": "code",
   "execution_count": null,
   "id": "22855ca7",
   "metadata": {
    "jupyter": {
     "is_executing": true
    }
   },
   "outputs": [],
   "source": [
    "fig = go.Figure()\n",
    "fig.update_layout(template=\"simple_white\",\n",
    "                 xaxis=dict(showgrid=False,tickfont = dict(size=17,family=\"serif\"),range=[2015,2040],\n",
    "                            title=\"\",titlefont = dict(size=19,family=\"serif\")), \n",
    "                 yaxis=dict(showgrid=True,tickfont = dict(size=17,family=\"serif\"),tickformat=\"0%\",range=[0,0.02],\n",
    "                            title=\"Interest in % of GDP\",titlefont = dict(size=19,family=\"serif\")))\n",
    "\n",
    "fig.add_trace(go.Line(x=list(range(2015,2022)),y=relative_interest,name=\"Historic\",line=dict(color='black'),mode=\"lines\"))\n",
    "fig.add_trace(go.Line(x=list(range(2020,2051)),y=df2021_2['Interest Bund']/df2021_2['GDP'],name='S I 2021 (6-2022)',line=dict(color='#6C757D')))\n",
    "fig.add_trace(go.Line(x=list(range(2020,2051)),y=df2022['Interest Bund']/df2022['GDP'],name='Ex post (10-2022)',line=dict(color='#343A40')))\n",
    "fig.add_trace(go.Line(x=list(range(2020,2035)),y=interest_grimm['YC 2022']/100,name=\"<i>YC 2022</i>\",line=dict(color='#6C757D',dash='dash'),mode=\"lines\"))\n",
    "fig.add_trace(go.Line(x=list(range(2020,2035)),y=interest_grimm['YC 2022 + 1pp']/100,name='<i>YC 2022 + 1pp</i>',line=dict(color='#343A40',dash='dash'),mode=\"lines\"))\n",
    "fig.add_trace(go.Line(x=list(range(2020,2035)),y=interest_grimm['YC 2022 + 2pp']/100,name='<i>YC 2022 + 2pp</i>',line=dict(color='#131517',dash='dash'),mode=\"lines\"))\n",
    "\n",
    "fig.update_layout(\n",
    "    yaxis=dict(\n",
    "    tickformat='.1%'\n",
    "    ),\n",
    "    width=700,\n",
    "    legend=dict(\n",
    "        yanchor=\"bottom\",\n",
    "        title=\"\",\n",
    "        y=1,\n",
    "        xanchor=\"center\",\n",
    "        x=0.5,\n",
    "        orientation=\"h\",\n",
    "        font=dict(size=18,family=\"serif\")\n",
    "    ))\n",
    "\n",
    "fig.write_image('fig7.pdf')\n",
    "fig.show()"
   ]
  },
  {
   "cell_type": "code",
   "execution_count": null,
   "id": "a4439e3e",
   "metadata": {
    "jupyter": {
     "is_executing": true
    }
   },
   "outputs": [],
   "source": [
    "# For years 2015-2019:\n",
    "gdp = [3026,3132,3267,3365,3474]\n",
    "federal_budget = [312,317,331,348,357]\n",
    "budget_size = []\n",
    "for i in range(0,5):\n",
    "    budget_size.append(federal_budget[i]/gdp[i])\n",
    "# Budget size historically ~10% of GDP"
   ]
  },
  {
   "cell_type": "markdown",
   "id": "120dd151",
   "metadata": {},
   "source": [
    "## Figure 2b\n",
    "<a id='fig2b'></a>"
   ]
  },
  {
   "cell_type": "code",
   "execution_count": null,
   "id": "84a31d5a",
   "metadata": {
    "jupyter": {
     "is_executing": true
    }
   },
   "outputs": [],
   "source": [
    "# Assuming a federal budget size of 10.% of nominal GDP\n",
    "df2020_0 = nominal_fiscal_balances(output='dataframe', baseyear=2020)\n",
    "\n",
    "relative_interest2 = []\n",
    "for i in range(0,5):\n",
    "    relative_interest2.append(interest[i]/federal_budget[i])\n",
    "relative_interest2\n",
    "\n",
    "fig = go.Figure()\n",
    "fig.update_layout(template=\"simple_white\",\n",
    "                 xaxis=dict(showgrid=False,tickfont = dict(size=17,family=\"serif\"),\n",
    "                            title=\"\",titlefont = dict(size=18,family=\"serif\")), \n",
    "                 yaxis=dict(showgrid=True,tickfont = dict(size=17,family=\"serif\"),tickformat=\"0%\",\n",
    "                            title=\"Interest expenditures in % of federal budget\",titlefont = dict(size=18,family=\"serif\")))\n",
    "\n",
    "fig.add_trace(go.Line(x=list(range(2015,2020)),y=relative_interest2,name=\"Historic\",line=dict(color='black'),mode=\"lines\"))\n",
    "fig.add_trace(go.Line(x=list(range(2020,2051)),y=df2020_0['Interest Bund']/df2020_0['GDP']/0.105,name=\"Baseline\",line=dict(color='black',dash='dash')))\n",
    "fig.add_trace(go.Line(x=list(range(2020,2051)),y=df2020_1['Interest Bund']/df2020_1['GDP']/0.105,name='S I 2020',line=dict(color='#495057')))\n",
    "fig.add_trace(go.Line(x=list(range(2020,2051)),y=df2020_2['Interest Bund']/df2020_2['GDP']/0.105,name='S II 2020',line=dict(color='#064046')))\n",
    "fig.add_trace(go.Line(x=list(range(2020,2051)),y=df2021_2['Interest Bund']/df2021_2['GDP']/0.105,name='S I 2021',line=dict(color='#ADB5BD')))\n",
    "fig.add_trace(go.Line(x=list(range(2020,2051)),y=df2022['Interest Bund']/df2022['GDP']/0.105,name='Ex post (10-2022)',line=dict(color='#343A40')))\n",
    "\n",
    "fig.update_layout(\n",
    "    showlegend=True,\n",
    "    yaxis=dict(\n",
    "    tickformat='.1%'\n",
    "    ),\n",
    "    width=700,\n",
    "    legend=dict(\n",
    "        yanchor=\"bottom\",\n",
    "        title=\"\",\n",
    "        y=1.1,\n",
    "        xanchor=\"center\",\n",
    "        x=0.5,\n",
    "        orientation=\"h\",\n",
    "        font=dict(size=18,family=\"serif\")\n",
    "    ))\n",
    "\n",
    "fig.write_image(\"fig2b.pdf\")\n",
    "fig.show()"
   ]
  },
  {
   "cell_type": "markdown",
   "id": "a8c3694f",
   "metadata": {},
   "source": [
    "## Constructed Time-Series"
   ]
  },
  {
   "cell_type": "markdown",
   "id": "f6e91e7c",
   "metadata": {},
   "source": [
    "## Figure 1\n",
    "<a id='fig1'></a>"
   ]
  },
  {
   "cell_type": "code",
   "execution_count": null,
   "id": "20129678",
   "metadata": {
    "jupyter": {
     "is_executing": true
    }
   },
   "outputs": [],
   "source": [
    "df_fig2 = nominal_fiscal_balances(output='dataframe', baseyear=2020, ex_post=1,\n",
    "                                    emergency_credit_bund = [41.9,192,0],\n",
    "                                    emergency_credit_states = [30,0,0])\n",
    "df_fig2['Bund'] = - df_fig2['NKA Bund'] / df_fig2['GDP']\n",
    "df_fig2['States'] = - df_fig2['NKA States'] / df_fig2['GDP']\n",
    "df_fig2['General Government'] = - (df_fig2['NKA States']+df_fig2['NKA Bund'])/ df_fig2['GDP']\n",
    "fig = px.bar(df_fig2, x='Year',y=['States','Bund'],\n",
    "              color_discrete_sequence=[\"#E3E6E8\",\"#ADB5BD\",\"#6C757D\",\"#343A40\",\"#131517\"])\n",
    "fig.update_layout(template=\"simple_white\",\n",
    "                 xaxis=dict(showgrid=False,tickfont = dict(size=17,family=\"serif\"),title=\"\"), \n",
    "                 yaxis=dict(range=[-0.095,0.005],showgrid=True,tickfont = dict(size=17,family=\"serif\"),tickformat=\"0%\",\n",
    "                            title=\"Net lending/borrowing in % of GDP\",titlefont = dict(size=19,family=\"serif\")))\n",
    "\n",
    "fig.add_trace(go.Scatter(\n",
    "    x=df_fig2['Year'],\n",
    "    y=df_fig2['General Government'],\n",
    "    mode='lines',\n",
    "    name='General Government',\n",
    "    connectgaps=True,\n",
    "    line=dict(color='#343A40')\n",
    "))\n",
    "    \n",
    "fig.update_layout(\n",
    "    yaxis=dict(\n",
    "    tickformat='.1%'\n",
    "    ),\n",
    "    width=700,\n",
    "    legend=dict(\n",
    "        yanchor=\"bottom\",\n",
    "        title=\"\",\n",
    "        y=-0.23,\n",
    "        xanchor=\"center\",\n",
    "        x=0.5,\n",
    "        orientation=\"h\",\n",
    "        font=dict(size=19,family=\"serif\")\n",
    "    ))\n",
    "\n",
    "fig.update_layout(\n",
    "    margin=dict(l=0,r=0,b=0,t=50)\n",
    "    )\n",
    "\n",
    "fig.write_image(\"fig1.pdf\")\n",
    "fig.show()"
   ]
  },
  {
   "cell_type": "code",
   "execution_count": null,
   "id": "18d01ea9",
   "metadata": {
    "jupyter": {
     "is_executing": true
    }
   },
   "outputs": [],
   "source": [
    "df2022 = nominal_fiscal_balances(output='dataframe', baseyear=2021, date=\"10-2022\",\n",
    "                                    emergency_credit_bund = [41.9,192,0],\n",
    "                                    emergency_credit_states = [30,0,0])\n",
    "df2022_reform = nominal_fiscal_balances(output='dataframe', baseyear=2021, date=\"10-2022\",\n",
    "                                    rule_states=0.003,rule_bund=0.007,\n",
    "                                    emergency_credit_bund = [41.9,192,0],\n",
    "                                    emergency_credit_states = [30,0,0])"
   ]
  },
  {
   "cell_type": "markdown",
   "id": "c8e18549",
   "metadata": {},
   "source": [
    "## Figure 6b\n",
    "<a id='fig6b'></a>"
   ]
  },
  {
   "cell_type": "code",
   "execution_count": null,
   "id": "e3ef962f",
   "metadata": {
    "jupyter": {
     "is_executing": true
    }
   },
   "outputs": [],
   "source": [
    "fig = go.Figure()\n",
    "fig.update_layout(template=\"simple_white\",\n",
    "                 xaxis=dict(showgrid=False,tickfont = dict(size=17,family=\"serif\"),title=\"\"), \n",
    "                 yaxis=dict(range=[0.05,0.75],showgrid=True,tickfont = dict(size=17,family=\"serif\"),tickformat=\"0%\",\n",
    "                            title=\"Government debt in % of GDP\",titlefont = dict(size=19,family=\"serif\")))\n",
    "\n",
    "fig.add_trace(go.Scatter(\n",
    "    x=df2022['Year'],\n",
    "    y=df2022['Debt Total']/df2022['GDP'],\n",
    "    mode='lines',\n",
    "    name='Baseline',\n",
    "    connectgaps=True,\n",
    "    line=dict(color='#131517')\n",
    "))\n",
    "\n",
    "fig.add_trace(go.Scatter(\n",
    "    x=df2022['Year'],\n",
    "    y=df2022_reform['Debt Total']/df2022['GDP'],\n",
    "    mode='lines',\n",
    "    name='Debt rule reform',\n",
    "    connectgaps=True,\n",
    "    line=dict(color='#ADB5BD')\n",
    "))\n",
    "    \n",
    "fig.update_layout(\n",
    "    yaxis=dict(\n",
    "    tickformat='.1%'\n",
    "    ),\n",
    "    width=700,\n",
    "    legend=dict(\n",
    "        yanchor=\"bottom\",\n",
    "        title=\"\",\n",
    "        y=-0.23,\n",
    "        xanchor=\"center\",\n",
    "        x=0.5,\n",
    "        orientation=\"h\",\n",
    "        font=dict(size=19,family=\"serif\")\n",
    "    ))\n",
    "\n",
    "fig.update_layout(\n",
    "    margin=dict(l=0,r=0,b=0,t=50)\n",
    "    )\n",
    "\n",
    "\n",
    "fig.write_image(\"fig6b.pdf\")\n",
    "fig.show()"
   ]
  },
  {
   "cell_type": "markdown",
   "id": "ea41e382",
   "metadata": {},
   "source": [
    "### Figure 3"
   ]
  },
  {
   "cell_type": "code",
   "execution_count": null,
   "id": "430771ba",
   "metadata": {
    "jupyter": {
     "is_executing": true
    }
   },
   "outputs": [],
   "source": [
    "def datensammlung_import(sheet):\n",
    "    df = pd.read_excel(\"data.xlsx\", sheet_name=sheet).set_index(\"Unnamed: 0\")\n",
    "    dates = []\n",
    "    for y in range(2018,2054):\n",
    "        for m in range(1,13):\n",
    "            if len(dates) < (len(df.columns)+30*12):\n",
    "                dates.append(str(m)+\"-\"+str(y))\n",
    "            else:\n",
    "                break\n",
    "    output = pd.DataFrame(dates)\n",
    "\n",
    "    count = 0\n",
    "    countdown = 66\n",
    "    for y in range(2018,2024):\n",
    "        for m in range(1,13):\n",
    "            if (m==7) & (y==2023):\n",
    "                break\n",
    "            else:\n",
    "                #print(str(m)+\"-\"+str(y))\n",
    "                series = [None]*count\n",
    "                series += [(item / 100) if item is not None else None for sublist in [i for i in [[i]+[None]*11 for i in list(df[str(m)+\"-\"+str(y)])]] for item in sublist]\n",
    "                series += [None]*countdown\n",
    "                output[str(m)+\"-\"+str(y)] = series\n",
    "                count += 1\n",
    "                countdown -=1\n",
    "    output = output.rename(columns={0:'Future Date'})\n",
    "    output['Future Time'] = pd.to_datetime(output['Future Date'])\n",
    "    return output\n",
    "\n",
    "def datensammlung_figure(data,title=\"\",filename=\"graph\",note=\"\",ytitle=\"\"):\n",
    "    fig = go.Figure()\n",
    "    fig.update_layout(template=\"simple_white\",\n",
    "                     xaxis=dict(showgrid=False,tickfont = dict(size=16,family=\"serif\")), \n",
    "                     yaxis=dict(showgrid=True,tickfont = dict(size=16,family=\"serif\"),\n",
    "                               title=ytitle,titlefont=dict(size=19,family=\"serif\")))\n",
    "\n",
    "    #colors = [\"navy\", \"green\", \"#81AB20\", \"#FF5300\", \"red\"]\n",
    "    colors = [\"#495057\", \"#ADB5BD\", \"#CED4DA\", \"#6C757D\", \"#343A40\"]\n",
    "    dash = [\"dashdot\", \"dot\", \"dot\" , \"dash\", \"solid\"]\n",
    "    lines = [\"1-2020\",\"1-2021\",\"5-2021\",\"1-2022\",\"10-2022\"]\n",
    "    names = [\"1-2020\",\"1-2021\",\"5-2021\",\"1-2022\",\"10-2022\"]\n",
    "    #markers = [\"square\", \"triangle-up\", \"triangle-down\", \"circle\"]\n",
    "    \n",
    "    for i,line in enumerate(lines):\n",
    "        fig.add_trace(go.Scatter(\n",
    "            x=data['Future Time'],\n",
    "            y=data[line],\n",
    "            mode='lines',\n",
    "            name=names[i % len(names)],\n",
    "            connectgaps=True,\n",
    "            line=dict(color=colors[i % len(colors)],dash=dash[i % len(dash)],width=3.5),\n",
    "            #marker=dict(symbol=markers[i % len(markers)],size=9.5)\n",
    "        ))\n",
    "\n",
    "    fig.update_layout(\n",
    "        #title=f\"<b>{title}</b>\",\n",
    "        #width=750,\n",
    "        yaxis=dict(\n",
    "        tickformat='.1%'\n",
    "        ),\n",
    "        #margin=dict(t=0,b=0,l=0,r=0),\n",
    "        legend=dict(\n",
    "            yanchor=\"bottom\",\n",
    "            y=-0.23,\n",
    "            xanchor=\"center\",\n",
    "            x=0.5,\n",
    "            orientation=\"h\",\n",
    "            #bordercolor=\"black\",\n",
    "            #borderwidth=1,\n",
    "            font=dict(size=16,family=\"serif\")\n",
    "        ))\n",
    "    \n",
    "    fig.write_image(filename+\".pdf\",height=600,width=900)\n",
    "    fig.show()"
   ]
  },
  {
   "cell_type": "markdown",
   "id": "a89abe93",
   "metadata": {},
   "source": [
    "## Figure 3\n",
    "<a id='fig3'></a>"
   ]
  },
  {
   "cell_type": "code",
   "execution_count": null,
   "id": "ef395d79",
   "metadata": {
    "jupyter": {
     "is_executing": true
    }
   },
   "outputs": [],
   "source": [
    "datensammlung_figure(datensammlung_import(\"EA E(i) from YC\"), \"Expected short-term nominal interest rate\",filename=\"fig3\",\n",
    "                    note=f\"Derived from AAA-Yield Curve by ECB\", ytitle=\"Expected short-term nominal interest rate\")"
   ]
  },
  {
   "cell_type": "code",
   "execution_count": null,
   "id": "80126cff",
   "metadata": {
    "jupyter": {
     "is_executing": true
    }
   },
   "outputs": [],
   "source": []
  }
 ],
 "metadata": {
  "kernelspec": {
   "display_name": "Python 3 (ipykernel)",
   "language": "python",
   "name": "python3"
  },
  "language_info": {
   "codemirror_mode": {
    "name": "ipython",
    "version": 3
   },
   "file_extension": ".py",
   "mimetype": "text/x-python",
   "name": "python",
   "nbconvert_exporter": "python",
   "pygments_lexer": "ipython3",
   "version": "3.12.4"
  }
 },
 "nbformat": 4,
 "nbformat_minor": 5
}
